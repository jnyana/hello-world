{
  "nbformat": 4,
  "nbformat_minor": 0,
  "metadata": {
    "colab": {
      "name": "MT19AIE248_Q1 .ipynb",
      "provenance": [],
      "collapsed_sections": [],
      "include_colab_link": true
    },
    "kernelspec": {
      "name": "python3",
      "display_name": "Python 3"
    }
  },
  "cells": [
    {
      "cell_type": "markdown",
      "metadata": {
        "id": "view-in-github",
        "colab_type": "text"
      },
      "source": [
        "<a href=\"https://colab.research.google.com/github/jnyana/hello-world/blob/master/MT19AIE248_Q1_.ipynb\" target=\"_parent\"><img src=\"https://colab.research.google.com/assets/colab-badge.svg\" alt=\"Open In Colab\"/></a>"
      ]
    },
    {
      "cell_type": "code",
      "metadata": {
        "id": "C5QAQMLkXkgX"
      },
      "source": [
        ""
      ],
      "execution_count": null,
      "outputs": []
    },
    {
      "cell_type": "code",
      "metadata": {
        "id": "l7jMHZ_cOu6U",
        "colab": {
          "base_uri": "https://localhost:8080/"
        },
        "outputId": "a7f3e262-e35d-45dc-812a-cb403fa944f3"
      },
      "source": [
        "#SUBMITTED BY\n",
        "#JNYANARANJAN NAYAK \n",
        "#MT19AIE248\n",
        "\n",
        "\n",
        "from google.colab import drive\n",
        "drive.mount('/content/drive')"
      ],
      "execution_count": 8,
      "outputs": [
        {
          "output_type": "stream",
          "text": [
            "Drive already mounted at /content/drive; to attempt to forcibly remount, call drive.mount(\"/content/drive\", force_remount=True).\n"
          ],
          "name": "stdout"
        }
      ]
    },
    {
      "cell_type": "code",
      "metadata": {
        "id": "8JONIrtqPEvm",
        "colab": {
          "base_uri": "https://localhost:8080/"
        },
        "outputId": "4031b170-54a2-4cd4-edec-6413b13c5e57"
      },
      "source": [
        "pip install idx2numpy"
      ],
      "execution_count": 9,
      "outputs": [
        {
          "output_type": "stream",
          "text": [
            "Requirement already satisfied: idx2numpy in /usr/local/lib/python3.6/dist-packages (1.2.3)\n",
            "Requirement already satisfied: six in /usr/local/lib/python3.6/dist-packages (from idx2numpy) (1.15.0)\n",
            "Requirement already satisfied: numpy in /usr/local/lib/python3.6/dist-packages (from idx2numpy) (1.18.5)\n"
          ],
          "name": "stdout"
        }
      ]
    },
    {
      "cell_type": "code",
      "metadata": {
        "id": "kcQSFCTUPH16",
        "colab": {
          "base_uri": "https://localhost:8080/",
          "height": 299
        },
        "outputId": "0430d681-e564-48a1-e585-8d2238ef0710"
      },
      "source": [
        "#IMPORTING REQUIRED LIBRARIES\n",
        "import numpy as np\n",
        "import idx2numpy\n",
        "import matplotlib.pyplot as plt\n",
        "\n",
        "#LOADING TRAINING DATASET\n",
        "x_train = '/content/drive/My Drive/ColabNotebooks/Dataset/UNzip/train-images.idx3-ubyte'\n",
        "x_trainimgary = idx2numpy.convert_from_file(x_train)\n",
        "\n",
        "#PRINTING TRAINING DATASET\n",
        "print(x_trainimgary.shape)\n",
        "plt.imshow(x_trainimgary[20], cmap=plt.cm.binary)"
      ],
      "execution_count": 10,
      "outputs": [
        {
          "output_type": "stream",
          "text": [
            "(60000, 28, 28)\n"
          ],
          "name": "stdout"
        },
        {
          "output_type": "execute_result",
          "data": {
            "text/plain": [
              "<matplotlib.image.AxesImage at 0x7f73556f1908>"
            ]
          },
          "metadata": {
            "tags": []
          },
          "execution_count": 10
        },
        {
          "output_type": "display_data",
          "data": {
            "image/png": "[encoded data removed]",
            "text/plain": [
              "<Figure size 432x288 with 1 Axes>"
            ]
          },
          "metadata": {
            "tags": [],
            "needs_background": "light"
          }
        }
      ]
    },
    {
      "cell_type": "code",
      "metadata": {
        "id": "jL949deAPMVT",
        "colab": {
          "base_uri": "https://localhost:8080/"
        },
        "outputId": "5766cb87-4714-466c-cc1f-cd3ce5215fec"
      },
      "source": [
        "#LOADING TRAINING LABELS\n",
        "y_train = '/content/drive/My Drive/ColabNotebooks/Dataset/UNzip/train-labels.idx1-ubyte'\n",
        "y_trainimgary = idx2numpy.convert_from_file(y_train)\n",
        "\n",
        "#PRINTING TOTAL NO OF TRAINING LABELS\n",
        "print(y_trainimgary.shape)\n"
      ],
      "execution_count": 11,
      "outputs": [
        {
          "output_type": "stream",
          "text": [
            "(60000,)\n"
          ],
          "name": "stdout"
        }
      ]
    },
    {
      "cell_type": "code",
      "metadata": {
        "id": "sqdemc8ZPvVe",
        "colab": {
          "base_uri": "https://localhost:8080/",
          "height": 299
        },
        "outputId": "bbafea82-a5c9-489a-a084-0f56cd402863"
      },
      "source": [
        "#LOADING TESTING DATASET\n",
        "\n",
        "x_test = '/content/drive/My Drive/ColabNotebooks/Dataset/UNzip/t10k-images.idx3-ubyte'\n",
        "x_testimgary = idx2numpy.convert_from_file(x_test)\n",
        "\n",
        "#PRINTING SAMPLE TESTING DATASET\n",
        "print(x_testimgary.shape)\n",
        "plt.imshow(x_testimgary[15], cmap=plt.cm.binary)"
      ],
      "execution_count": 12,
      "outputs": [
        {
          "output_type": "stream",
          "text": [
            "(10000, 28, 28)\n"
          ],
          "name": "stdout"
        },
        {
          "output_type": "execute_result",
          "data": {
            "text/plain": [
              "<matplotlib.image.AxesImage at 0x7f735564d8d0>"
            ]
          },
          "metadata": {
            "tags": []
          },
          "execution_count": 12
        },
        {
          "output_type": "display_data",
          "data": {
            "image/png": "[encoded data removed]",
            "text/plain": [
              "<Figure size 432x288 with 1 Axes>"
            ]
          },
          "metadata": {
            "tags": [],
            "needs_background": "light"
          }
        }
      ]
    },
    {
      "cell_type": "code",
      "metadata": {
        "id": "Nh7WBsW3Pxkc",
        "colab": {
          "base_uri": "https://localhost:8080/"
        },
        "outputId": "7b9388b2-9100-494c-db6e-be2fd9e3ffa2"
      },
      "source": [
        "#LOADING TESTING LABELS\n",
        "\n",
        "y_test = '/content/drive/My Drive/ColabNotebooks/Dataset/UNzip/t10k-labels.idx1-ubyte'\n",
        "y_testimgary = idx2numpy.convert_from_file(y_test)\n",
        "\n",
        "#PRINTING TOTAL NO OF TESTING LABELS\n",
        "print(y_testimgary.shape)"
      ],
      "execution_count": 13,
      "outputs": [
        {
          "output_type": "stream",
          "text": [
            "(10000,)\n"
          ],
          "name": "stdout"
        }
      ]
    },
    {
      "cell_type": "code",
      "metadata": {
        "id": "r4xCrslbP16f",
        "colab": {
          "base_uri": "https://localhost:8080/"
        },
        "outputId": "93ba328a-db0d-4d7e-8a00-b25a71e79aa4"
      },
      "source": [
        "#PRINIING THE LOADED DATASET (ALL THE NUMBERS)\n",
        "print(x_trainimgary.shape)\n",
        "print(y_trainimgary.shape)\n",
        "print(x_testimgary.shape)\n",
        "print(y_testimgary.shape)\n"
      ],
      "execution_count": 14,
      "outputs": [
        {
          "output_type": "stream",
          "text": [
            "(60000, 28, 28)\n",
            "(60000,)\n",
            "(10000, 28, 28)\n",
            "(10000,)\n"
          ],
          "name": "stdout"
        }
      ]
    },
    {
      "cell_type": "code",
      "metadata": {
        "id": "ZXFSDob9P6q0",
        "colab": {
          "base_uri": "https://localhost:8080/"
        },
        "outputId": "6a395a14-3879-408b-f42f-68683cdd924b"
      },
      "source": [
        "# The aim is to perform a 2-class classification between 1  and 7. \n",
        "# Consider the following training datasets.  \n",
        "# a. The first training dataset is created such that it contains all training samples corresponding  to 1, and only 500 samples corresponding to 7.\n",
        "\n",
        "#Preparing the Training Dataset \n",
        "import numpy as np\n",
        "import pandas as pd\n",
        "train_filter = np.where((y_trainimgary == 1))\n",
        "test_filter = np.where((y_testimgary == 1))\n",
        "\n",
        "x_trainimgary1, y_trainimgary1 = x_trainimgary[train_filter], y_trainimgary[train_filter]\n",
        "x_testimgary1, y_testimgary1 = x_testimgary[test_filter], y_testimgary[test_filter]\n",
        "\n",
        "#Only 7's\n",
        "\n",
        "train_filter1 = np.where((y_trainimgary == 7 ))\n",
        "test_filter1 = np.where((y_testimgary == 7))\n",
        "\n",
        "x_trainimgary7, y_trainimgary7 = x_trainimgary[train_filter1], y_trainimgary[train_filter1]\n",
        "x_testimgary7, y_testimgary7 = x_testimgary[test_filter1], y_testimgary[test_filter1]\n",
        "\n",
        "#Sampling 500 Samples of 7 \n",
        "x_trainimgary_7_500 = x_trainimgary7[:500]\n",
        "y_trainimgary_7_500 = y_trainimgary7[:500]\n",
        "x_testimgary_7_500 = x_testimgary7[:500]\n",
        "y_testimgary_7_500 = y_testimgary7[:500]\n",
        "\n",
        "#CASE-1\n",
        "#CONCATENATING THE ABOVE TWO DATASETS (ALL 1'S AND 500 SAMPLES OF 7)\n",
        "x_trainfinal1 = np.concatenate((x_trainimgary1,x_trainimgary_7_500),axis=0)\n",
        "y_trainfinal1 = np.concatenate((y_trainimgary1,y_trainimgary_7_500),axis=0)\n",
        "x_testfinal1 =  np.concatenate((x_testimgary1,x_testimgary_7_500),axis=0)\n",
        "y_testfinal1 =  np.concatenate((y_testimgary1,y_testimgary_7_500),axis=0)\n",
        "\n",
        "print(x_trainfinal1.shape)\n",
        "print(y_trainfinal1.shape)\n",
        "print(x_testfinal1.shape)\n",
        "print(y_testfinal1.shape)\n",
        "\n"
      ],
      "execution_count": 16,
      "outputs": [
        {
          "output_type": "stream",
          "text": [
            "(7242, 28, 28)\n",
            "(7242,)\n",
            "(1635, 28, 28)\n",
            "(1635,)\n"
          ],
          "name": "stdout"
        }
      ]
    },
    {
      "cell_type": "code",
      "metadata": {
        "id": "ObhwpOM4QOYN",
        "colab": {
          "base_uri": "https://localhost:8080/"
        },
        "outputId": "8c0b34f0-2500-45c2-c083-eb778889179d"
      },
      "source": [
        "#b. The second training dataset contains all training samples corresponding to 7, and only 500  samples corresponding to 1.\n",
        "\n",
        "#PRINING \n",
        "#ONLY 7's\n",
        "print(x_trainimgary7.shape)\n",
        "print(y_trainimgary7.shape)\n",
        "print(x_testimgary7.shape)\n",
        "print(y_testimgary7.shape)\n",
        "\n",
        "#ONLY 500 SAMPLES OF 1'S\n",
        "x_trainimgary_1_500=x_trainimgary1[:500]\n",
        "y_trainimgary_1_500=y_trainimgary1[:500]\n",
        "x_testimgary_1_500=x_testimgary1[:500]\n",
        "y_testimgary_1_500=y_testimgary1[:500]\n",
        "\n",
        "#PRINTING\n",
        "\n",
        "print(x_trainimgary_1_500.shape)\n",
        "print(y_trainimgary_1_500.shape)\n",
        "print(x_testimgary_1_500.shape)\n",
        "print(y_testimgary_1_500.shape)\n",
        "\n",
        "#CONCATENATING THE ABOVE TWO DATASETS (ALL 7'S AND 500 SAMPLES OF 1)\n",
        "x_trainfinal2 = np.concatenate((x_trainimgary7,x_trainimgary_1_500),axis=0)\n",
        "y_trainfinal2 = np.concatenate((y_trainimgary7,y_trainimgary_1_500),axis=0)\n",
        "x_testfinal2 =  np.concatenate((x_testimgary7,x_testimgary_1_500),axis=0)\n",
        "y_testfinal2 =  np.concatenate((y_testimgary7,y_testimgary_1_500),axis=0)\n",
        "\n",
        "#PRINTING THE FINAL DATASETS\n",
        "print(x_trainfinal2.shape)\n",
        "print(y_trainfinal2.shape)\n",
        "print(x_testfinal2.shape)\n",
        "print(y_testfinal2.shape)\n"
      ],
      "execution_count": 17,
      "outputs": [
        {
          "output_type": "stream",
          "text": [
            "(6265, 28, 28)\n",
            "(6265,)\n",
            "(1028, 28, 28)\n",
            "(1028,)\n",
            "(500, 28, 28)\n",
            "(500,)\n",
            "(500, 28, 28)\n",
            "(500,)\n",
            "(6765, 28, 28)\n",
            "(6765,)\n",
            "(1528, 28, 28)\n",
            "(1528,)\n"
          ],
          "name": "stdout"
        }
      ]
    },
    {
      "cell_type": "code",
      "metadata": {
        "id": "CeFCQcrzQWmu",
        "colab": {
          "base_uri": "https://localhost:8080/"
        },
        "outputId": "c00e524d-39eb-48ee-dd81-489f2bac7547"
      },
      "source": [
        "#c. The third training dataset contains all training samples of both 1 and 7. \n",
        "\n",
        "x_trainfinal3=np.concatenate((x_trainimgary1,x_trainimgary7),axis=0)\n",
        "y_trainfinal3=np.concatenate((y_trainimgary1,y_trainimgary7),axis=0)\n",
        "x_testfinal3=np.concatenate((x_testimgary1,x_testimgary7),axis=0)\n",
        "y_testfinal3=np.concatenate((y_testimgary1,y_testimgary7),axis=0)\n",
        "\n",
        "#PRINTING THE DATASET \n",
        "\n",
        "print(x_trainfinal3.shape)\n",
        "print(y_trainfinal3.shape)\n",
        "print(x_testfinal3.shape)\n",
        "print(y_testfinal3.shape)\n",
        "\n"
      ],
      "execution_count": 19,
      "outputs": [
        {
          "output_type": "stream",
          "text": [
            "(13007, 28, 28)\n",
            "(13007,)\n",
            "(2163, 28, 28)\n",
            "(2163,)\n"
          ],
          "name": "stdout"
        }
      ]
    },
    {
      "cell_type": "code",
      "metadata": {
        "id": "BnKnSxpJQcCv",
        "colab": {
          "base_uri": "https://localhost:8080/"
        },
        "outputId": "c293c801-404d-4066-9804-6e0cbfab52af"
      },
      "source": [
        "#FINAL PREPARED DATASET FOR ALL THE ABOVE 3 CASES\n",
        "\n",
        "#CASE-1\n",
        "print(x_trainfinal1.shape)\n",
        "print(y_trainfinal1.shape)\n",
        "print(x_testfinal1.shape)\n",
        "print(y_testfinal1.shape)\n",
        "\n",
        "#CASE-2\n",
        "print(x_trainfinal2.shape)\n",
        "print(y_trainfinal2.shape)\n",
        "print(x_testfinal2.shape)\n",
        "print(y_testfinal2.shape)\n",
        "\n",
        "#CASE-3\n",
        "print(x_trainfinal3.shape)\n",
        "print(y_trainfinal3.shape)\n",
        "print(x_testfinal3.shape)\n",
        "print(y_testfinal3.shape)"
      ],
      "execution_count": 20,
      "outputs": [
        {
          "output_type": "stream",
          "text": [
            "(7242, 28, 28)\n",
            "(7242,)\n",
            "(1635, 28, 28)\n",
            "(1635,)\n",
            "(6765, 28, 28)\n",
            "(6765,)\n",
            "(1528, 28, 28)\n",
            "(1528,)\n",
            "(13007, 28, 28)\n",
            "(13007,)\n",
            "(2163, 28, 28)\n",
            "(2163,)\n"
          ],
          "name": "stdout"
        }
      ]
    },
    {
      "cell_type": "code",
      "metadata": {
        "id": "zkCnsDoMQgbZ",
        "colab": {
          "base_uri": "https://localhost:8080/"
        },
        "outputId": "31d83e72-9b2b-42f1-df8f-89e86769506f"
      },
      "source": [
        "#BUILDING AND TRAINING THE MODEL :-\n",
        "\n",
        "# 1 A linear SVM\n",
        "#CASE-1\n",
        "import pandas as pd\n",
        "import numpy as np\n",
        "import matplotlib.pyplot as plt\n",
        "%matplotlib inline\n",
        "\n",
        "#CONVERTING DATA INTO 2 DIMENSIONS CASE-A \n",
        "dataset_size = len(x_trainfinal1)\n",
        "TwoDim_dataset_x_trainfinal1 = x_trainfinal1.reshape(dataset_size,-1)\n",
        "print(TwoDim_dataset_x_trainfinal1.shape)\n",
        "\n",
        "dataset_size1 = len(y_trainfinal1)\n",
        "TwoDim_dataset1_y_trainfinal1 = y_trainfinal1.reshape(dataset_size1,-1)\n",
        "print(TwoDim_dataset1_y_trainfinal1)\n",
        "\n",
        "dataset_size2 = len(x_testfinal1)\n",
        "TwoDim_dataset2_x_testfinal11 = x_testfinal1.reshape(dataset_size2,-1)\n",
        "print(TwoDim_dataset2_x_testfinal11)\n",
        "\n",
        "dataset_size3 = len(y_testfinal1)\n",
        "TwoDim_dataset3_y_testfinal1 = y_testfinal1.reshape(dataset_size3,-1)\n",
        "print(TwoDim_dataset3_y_testfinal1)\n",
        "\n",
        "#CONVERTING DATA INTO 2 DIMENSIONS CASE-B\n",
        "print(x_trainfinal2.shape)\n",
        "print(y_trainfinal2.shape)\n",
        "print(x_testfinal2.shape)\n",
        "print(y_testfinal2.shape)\n",
        "\n",
        "dataset_sizeX1 = len(x_trainfinal2)\n",
        "TwoDim_dataset_x_trainfinal2 = x_trainfinal2.reshape(dataset_sizeX1,-1)\n",
        "print(TwoDim_dataset_x_trainfinal2.shape)\n",
        "\n",
        "dataset_sizeX2 = len(y_trainfinal2)\n",
        "TwoDim_dataset1_y_trainfinal2 = y_trainfinal2.reshape(dataset_sizeX2,-1)\n",
        "print(TwoDim_dataset1_y_trainfinal2)\n",
        "\n",
        "dataset_sizeX3 = len(x_testfinal2)\n",
        "TwoDim_dataset2_x_testfinal12 = x_testfinal2.reshape(dataset_sizeX3,-1)\n",
        "print(TwoDim_dataset2_x_testfinal12)\n",
        "\n",
        "\n",
        "dataset_sizeX4 = len(y_testfinal2)\n",
        "TwoDim_dataset3_y_testfinal2 = y_testfinal2.reshape(dataset_sizeX4,-1)\n",
        "print(TwoDim_dataset3_y_testfinal2)\n",
        "\n",
        "#CONVERTING DATA INTO 2 DIMENSIONS CASE-C\n",
        "print(x_trainfinal3.shape)\n",
        "print(y_trainfinal3.shape)\n",
        "print(x_testfinal3.shape)\n",
        "print(y_testfinal3.shape)\n",
        "\n",
        "dataset_sizeZ1 = len(x_trainfinal3)\n",
        "TwoDim_dataset_x_trainfinal3 = x_trainfinal3.reshape(dataset_sizeZ1,-1)\n",
        "print(TwoDim_dataset_x_trainfinal3.shape)\n",
        "\n",
        "dataset_sizeZ2 = len(y_trainfinal3)\n",
        "TwoDim_dataset1_y_trainfinal3 = y_trainfinal3.reshape(dataset_sizeZ2,-1)\n",
        "print(TwoDim_dataset1_y_trainfinal3)\n",
        "\n",
        "dataset_sizeZ3 = len(x_testfinal3)\n",
        "TwoDim_dataset2_x_testfinal13 = x_testfinal3.reshape(dataset_sizeZ3,-1)\n",
        "print(TwoDim_dataset2_x_testfinal13)\n",
        "\n",
        "dataset_sizeZ4 = len(y_testfinal3)\n",
        "TwoDim_dataset3_y_testfinal3 = y_testfinal3.reshape(dataset_sizeZ4,-1)\n",
        "print(TwoDim_dataset3_y_testfinal3)\n",
        "\n",
        "\n",
        "\n",
        "\n",
        "\n",
        "\n",
        "\n",
        "\n",
        "\n",
        "\n",
        "\n"
      ],
      "execution_count": 21,
      "outputs": [
        {
          "output_type": "stream",
          "text": [
            "(7242, 784)\n",
            "[[1]\n",
            " [1]\n",
            " [1]\n",
            " ...\n",
            " [7]\n",
            " [7]\n",
            " [7]]\n",
            "[[0 0 0 ... 0 0 0]\n",
            " [0 0 0 ... 0 0 0]\n",
            " [0 0 0 ... 0 0 0]\n",
            " ...\n",
            " [0 0 0 ... 0 0 0]\n",
            " [0 0 0 ... 0 0 0]\n",
            " [0 0 0 ... 0 0 0]]\n",
            "[[1]\n",
            " [1]\n",
            " [1]\n",
            " ...\n",
            " [7]\n",
            " [7]\n",
            " [7]]\n",
            "(6765, 28, 28)\n",
            "(6765,)\n",
            "(1528, 28, 28)\n",
            "(1528,)\n",
            "(6765, 784)\n",
            "[[7]\n",
            " [7]\n",
            " [7]\n",
            " ...\n",
            " [1]\n",
            " [1]\n",
            " [1]]\n",
            "[[0 0 0 ... 0 0 0]\n",
            " [0 0 0 ... 0 0 0]\n",
            " [0 0 0 ... 0 0 0]\n",
            " ...\n",
            " [0 0 0 ... 0 0 0]\n",
            " [0 0 0 ... 0 0 0]\n",
            " [0 0 0 ... 0 0 0]]\n",
            "[[7]\n",
            " [7]\n",
            " [7]\n",
            " ...\n",
            " [1]\n",
            " [1]\n",
            " [1]]\n",
            "(13007, 28, 28)\n",
            "(13007,)\n",
            "(2163, 28, 28)\n",
            "(2163,)\n",
            "(13007, 784)\n",
            "[[1]\n",
            " [1]\n",
            " [1]\n",
            " ...\n",
            " [7]\n",
            " [7]\n",
            " [7]]\n",
            "[[0 0 0 ... 0 0 0]\n",
            " [0 0 0 ... 0 0 0]\n",
            " [0 0 0 ... 0 0 0]\n",
            " ...\n",
            " [0 0 0 ... 0 0 0]\n",
            " [0 0 0 ... 0 0 0]\n",
            " [0 0 0 ... 0 0 0]]\n",
            "[[1]\n",
            " [1]\n",
            " [1]\n",
            " ...\n",
            " [7]\n",
            " [7]\n",
            " [7]]\n"
          ],
          "name": "stdout"
        }
      ]
    },
    {
      "cell_type": "code",
      "metadata": {
        "id": "3iC6nv_SQtHG",
        "colab": {
          "base_uri": "https://localhost:8080/"
        },
        "outputId": "721d94bd-09d4-4fe8-d6c2-1dac9a02dd59"
      },
      "source": [
        "#PREPARING THE MODEL\n",
        "#CASE-A\n",
        "from sklearn import svm\n",
        "#Create a svm Classifier\n",
        "clf = svm.SVC(kernel='linear') # Linear Kernel\n",
        "clf.fit(TwoDim_dataset_x_trainfinal1, TwoDim_dataset1_y_trainfinal1)\n",
        "#Predict the response for test dataset\n",
        "y_pred = clf.predict(TwoDim_dataset2_x_testfinal11)\n",
        "print(y_pred)"
      ],
      "execution_count": 22,
      "outputs": [
        {
          "output_type": "stream",
          "text": [
            "/usr/local/lib/python3.6/dist-packages/sklearn/utils/validation.py:760: DataConversionWarning: A column-vector y was passed when a 1d array was expected. Please change the shape of y to (n_samples, ), for example using ravel().\n",
            "  y = column_or_1d(y, warn=True)\n"
          ],
          "name": "stderr"
        },
        {
          "output_type": "stream",
          "text": [
            "[1 1 1 ... 7 7 7]\n"
          ],
          "name": "stdout"
        }
      ]
    },
    {
      "cell_type": "code",
      "metadata": {
        "id": "eTw6fculQ0IO",
        "colab": {
          "base_uri": "https://localhost:8080/"
        },
        "outputId": "aa31386a-0405-41c3-dd0c-6c75b6f63e0b"
      },
      "source": [
        "#Evaluating the Model\n",
        "from sklearn import metrics\n",
        "# Model Accuracy: how often is the classifier correct\n",
        "print(\"Accuracy:\",metrics.accuracy_score(TwoDim_dataset3_y_testfinal1, y_pred))\n"
      ],
      "execution_count": 23,
      "outputs": [
        {
          "output_type": "stream",
          "text": [
            "Accuracy: 0.981651376146789\n"
          ],
          "name": "stdout"
        }
      ]
    },
    {
      "cell_type": "code",
      "metadata": {
        "id": "4cWzdl3eQ5Xf",
        "colab": {
          "base_uri": "https://localhost:8080/"
        },
        "outputId": "b62418d8-2679-4426-a8a8-8255690b1ecb"
      },
      "source": [
        "# Model Precision: what percentage of positive tuples are labeled\n",
        "print(\"Precision:\",metrics.precision_score(TwoDim_dataset3_y_testfinal1, y_pred))\n",
        "\n",
        "# Model Recall: what percentage of positive tuples are labelled\n",
        "print(\"Recall:\",metrics.recall_score(TwoDim_dataset3_y_testfinal1, y_pred))"
      ],
      "execution_count": 24,
      "outputs": [
        {
          "output_type": "stream",
          "text": [
            "Precision: 0.9742489270386266\n",
            "Recall: 1.0\n"
          ],
          "name": "stdout"
        }
      ]
    },
    {
      "cell_type": "code",
      "metadata": {
        "id": "JMbp4p_pQ7VT",
        "colab": {
          "base_uri": "https://localhost:8080/",
          "height": 279
        },
        "outputId": "e3890b2d-e3e9-4299-facc-87043447e49f"
      },
      "source": [
        "#PRECISION RECALL CURVE \n",
        "from sklearn.metrics import precision_recall_curve\n",
        "from sklearn.metrics import plot_precision_recall_curve\n",
        "import matplotlib.pyplot as plt\n",
        "\n",
        "disp = plot_precision_recall_curve(clf, TwoDim_dataset2_x_testfinal11,TwoDim_dataset3_y_testfinal1)\n"
      ],
      "execution_count": 25,
      "outputs": [
        {
          "output_type": "display_data",
          "data": {
            "image/png": "[encoded data removed]",
            "text/plain": [
              "<Figure size 432x288 with 1 Axes>"
            ]
          },
          "metadata": {
            "tags": [],
            "needs_background": "light"
          }
        }
      ]
    },
    {
      "cell_type": "code",
      "metadata": {
        "id": "3OjOk7IdQ_YU",
        "colab": {
          "base_uri": "https://localhost:8080/",
          "height": 279
        },
        "outputId": "0e94628a-9b43-471c-c2ec-385a3ccbcd1b"
      },
      "source": [
        "#ROC CURVE\n",
        "metrics.plot_roc_curve(clf, TwoDim_dataset2_x_testfinal11, TwoDim_dataset3_y_testfinal1)  \n",
        "plt.show()"
      ],
      "execution_count": 26,
      "outputs": [
        {
          "output_type": "display_data",
          "data": {
            "image/png": "[encoded data removed]",
            "text/plain": [
              "<Figure size 432x288 with 1 Axes>"
            ]
          },
          "metadata": {
            "tags": [],
            "needs_background": "light"
          }
        }
      ]
    },
    {
      "cell_type": "code",
      "metadata": {
        "id": "JDIQm4cWoRRd",
        "colab": {
          "base_uri": "https://localhost:8080/"
        },
        "outputId": "06db2e99-29f4-4521-ad35-8169b41f3932"
      },
      "source": [
        "#PREPARING THE MODEL\n",
        "#CASE-B\n",
        "from sklearn import svm\n",
        "#Create a svm Classifier\n",
        "clf = svm.SVC(kernel='linear') # Linear Kernel\n",
        "clf.fit(TwoDim_dataset_x_trainfinal2, TwoDim_dataset1_y_trainfinal2)\n",
        "#Predict the response for test dataset\n",
        "y_pred = clf.predict(TwoDim_dataset2_x_testfinal12)\n",
        "print(y_pred)"
      ],
      "execution_count": 27,
      "outputs": [
        {
          "output_type": "stream",
          "text": [
            "/usr/local/lib/python3.6/dist-packages/sklearn/utils/validation.py:760: DataConversionWarning: A column-vector y was passed when a 1d array was expected. Please change the shape of y to (n_samples, ), for example using ravel().\n",
            "  y = column_or_1d(y, warn=True)\n"
          ],
          "name": "stderr"
        },
        {
          "output_type": "stream",
          "text": [
            "[7 7 7 ... 1 1 1]\n"
          ],
          "name": "stdout"
        }
      ]
    },
    {
      "cell_type": "code",
      "metadata": {
        "id": "YZgiatEboRdt",
        "colab": {
          "base_uri": "https://localhost:8080/"
        },
        "outputId": "02df8f4d-5ad1-44e3-ac40-4caedb241c7b"
      },
      "source": [
        "#Evaluating the Model\n",
        "from sklearn import metrics\n",
        "# Model Accuracy: how often is the classifier correct\n",
        "print(\"Accuracy:\",metrics.accuracy_score(TwoDim_dataset3_y_testfinal2, y_pred))\n"
      ],
      "execution_count": 28,
      "outputs": [
        {
          "output_type": "stream",
          "text": [
            "Accuracy: 0.9921465968586387\n"
          ],
          "name": "stdout"
        }
      ]
    },
    {
      "cell_type": "code",
      "metadata": {
        "id": "z26oZmyyqA8T",
        "colab": {
          "base_uri": "https://localhost:8080/",
          "height": 279
        },
        "outputId": "d468d819-76b1-409a-b5f8-d183207e412d"
      },
      "source": [
        "#ROC CURVE\n",
        "metrics.plot_roc_curve(clf, TwoDim_dataset2_x_testfinal12, TwoDim_dataset3_y_testfinal2)  \n",
        "plt.show()"
      ],
      "execution_count": 29,
      "outputs": [
        {
          "output_type": "display_data",
          "data": {
            "image/png": "[encoded data removed]",
            "text/plain": [
              "<Figure size 432x288 with 1 Axes>"
            ]
          },
          "metadata": {
            "tags": [],
            "needs_background": "light"
          }
        }
      ]
    },
    {
      "cell_type": "code",
      "metadata": {
        "id": "b1fCOdQuoRoQ",
        "colab": {
          "base_uri": "https://localhost:8080/",
          "height": 279
        },
        "outputId": "d0d3cc3d-06b0-49b1-d813-cee05e71801f"
      },
      "source": [
        "#PRECISION RECALL CURVE \n",
        "from sklearn.metrics import precision_recall_curve\n",
        "from sklearn.metrics import plot_precision_recall_curve\n",
        "import matplotlib.pyplot as plt\n",
        "\n",
        "disp = plot_precision_recall_curve(clf, TwoDim_dataset2_x_testfinal12,TwoDim_dataset3_y_testfinal2)\n"
      ],
      "execution_count": 30,
      "outputs": [
        {
          "output_type": "display_data",
          "data": {
            "image/png": "[encoded data removed]",
            "text/plain": [
              "<Figure size 432x288 with 1 Axes>"
            ]
          },
          "metadata": {
            "tags": [],
            "needs_background": "light"
          }
        }
      ]
    },
    {
      "cell_type": "code",
      "metadata": {
        "id": "8mtEKrRcoRzF",
        "colab": {
          "base_uri": "https://localhost:8080/"
        },
        "outputId": "c44f80c5-b72e-4417-fb6c-e37e43cfb813"
      },
      "source": [
        "# Model Precision: what percentage of positive tuples are labeled\n",
        "print(\"Precision:\",metrics.precision_score(TwoDim_dataset3_y_testfinal2, y_pred))\n",
        "\n",
        "# Model Recall: what percentage of positive tuples are labelled\n",
        "print(\"Recall:\",metrics.recall_score(TwoDim_dataset3_y_testfinal2, y_pred))"
      ],
      "execution_count": 31,
      "outputs": [
        {
          "output_type": "stream",
          "text": [
            "Precision: 0.9899598393574297\n",
            "Recall: 0.986\n"
          ],
          "name": "stdout"
        }
      ]
    },
    {
      "cell_type": "code",
      "metadata": {
        "id": "wG2BjFoaoR8Q",
        "colab": {
          "base_uri": "https://localhost:8080/"
        },
        "outputId": "84617319-759e-45d7-e59e-becb12a83824"
      },
      "source": [
        "#PREPARING THE MODEL\n",
        "#CASE-C\n",
        "from sklearn import svm\n",
        "#Create a svm Classifier\n",
        "clf = svm.SVC(kernel='linear') # Linear Kernel\n",
        "clf.fit(TwoDim_dataset_x_trainfinal3, TwoDim_dataset1_y_trainfinal3)\n",
        "#Predict the response for test dataset\n",
        "y_pred = clf.predict(TwoDim_dataset2_x_testfinal13)\n",
        "print(y_pred)"
      ],
      "execution_count": 32,
      "outputs": [
        {
          "output_type": "stream",
          "text": [
            "/usr/local/lib/python3.6/dist-packages/sklearn/utils/validation.py:760: DataConversionWarning: A column-vector y was passed when a 1d array was expected. Please change the shape of y to (n_samples, ), for example using ravel().\n",
            "  y = column_or_1d(y, warn=True)\n"
          ],
          "name": "stderr"
        },
        {
          "output_type": "stream",
          "text": [
            "[1 1 1 ... 7 7 7]\n"
          ],
          "name": "stdout"
        }
      ]
    },
    {
      "cell_type": "code",
      "metadata": {
        "id": "4AQ_wNIdtfpG",
        "colab": {
          "base_uri": "https://localhost:8080/"
        },
        "outputId": "9814c7bb-f4bb-41d0-c3ef-405060f023cd"
      },
      "source": [
        "#Evaluating the Model\n",
        "from sklearn import metrics\n",
        "# Model Accuracy: how often is the classifier correct\n",
        "print(\"Accuracy:\",metrics.accuracy_score(TwoDim_dataset3_y_testfinal3, y_pred))"
      ],
      "execution_count": 33,
      "outputs": [
        {
          "output_type": "stream",
          "text": [
            "Accuracy: 0.9916782246879334\n"
          ],
          "name": "stdout"
        }
      ]
    },
    {
      "cell_type": "code",
      "metadata": {
        "id": "Xw-7-sZPtft6",
        "colab": {
          "base_uri": "https://localhost:8080/"
        },
        "outputId": "d8e54fb4-7782-4c95-a994-330a5ce9a3a3"
      },
      "source": [
        "# Model Precision: what percentage of positive tuples are labeled\n",
        "print(\"Precision:\",metrics.precision_score(TwoDim_dataset3_y_testfinal3, y_pred))\n",
        "\n",
        "# Model Recall: what percentage of positive tuples are labelled\n",
        "print(\"Recall:\",metrics.recall_score(TwoDim_dataset3_y_testfinal3, y_pred))"
      ],
      "execution_count": 34,
      "outputs": [
        {
          "output_type": "stream",
          "text": [
            "Precision: 0.986922406277245\n",
            "Recall: 0.9973568281938326\n"
          ],
          "name": "stdout"
        }
      ]
    },
    {
      "cell_type": "code",
      "metadata": {
        "id": "CrFzQeostf6N",
        "colab": {
          "base_uri": "https://localhost:8080/",
          "height": 279
        },
        "outputId": "5681b8ab-74ba-4a57-e478-e52a0ea12f84"
      },
      "source": [
        "#PRECISION RECALL CURVE \n",
        "from sklearn.metrics import precision_recall_curve\n",
        "from sklearn.metrics import plot_precision_recall_curve\n",
        "import matplotlib.pyplot as plt\n",
        "\n",
        "disp = plot_precision_recall_curve(clf, TwoDim_dataset2_x_testfinal13,TwoDim_dataset3_y_testfinal3)"
      ],
      "execution_count": 35,
      "outputs": [
        {
          "output_type": "display_data",
          "data": {
            "image/png": "[encoded data removed]",
            "text/plain": [
              "<Figure size 432x288 with 1 Axes>"
            ]
          },
          "metadata": {
            "tags": [],
            "needs_background": "light"
          }
        }
      ]
    },
    {
      "cell_type": "code",
      "metadata": {
        "id": "Defr0ER5tgCp",
        "colab": {
          "base_uri": "https://localhost:8080/",
          "height": 279
        },
        "outputId": "1f78f042-b21f-43dc-e3b1-f3d59bc4cf0f"
      },
      "source": [
        "#ROC CURVE\n",
        "metrics.plot_roc_curve(clf, TwoDim_dataset2_x_testfinal13, TwoDim_dataset3_y_testfinal3)  \n",
        "plt.show()"
      ],
      "execution_count": 36,
      "outputs": [
        {
          "output_type": "display_data",
          "data": {
            "image/png": "[encoded data removed]",
            "text/plain": [
              "<Figure size 432x288 with 1 Axes>"
            ]
          },
          "metadata": {
            "tags": [],
            "needs_background": "light"
          }
        }
      ]
    },
    {
      "cell_type": "code",
      "metadata": {
        "id": "FY1UemjTRD_Z"
      },
      "source": [
        "#A 5 layer neural network with architecture: [(128 -- 128 -- 128 -- 64 -- 1)] \n",
        "\n",
        "#CASE-1\n",
        "from tensorflow import keras\n",
        "from keras.models import Sequential\n",
        "from keras.layers.core import Dense, Dropout, Activation, Flatten\n",
        "from keras.layers.convolutional import Convolution1D, Convolution2D, Convolution3D, MaxPooling1D, MaxPooling2D, MaxPooling3D \n",
        "import pandas as pd\n",
        "import numpy as np\n",
        "\n",
        "\n",
        "model = Sequential()\n",
        "\n",
        "model.add(Dense(128, input_dim=784, activation='relu'))\n",
        "model.add(Dense(128, activation='relu'))\n",
        "model.add(Dense(128, activation='relu'))\n",
        "model.add(Dense(64, activation='relu'))\n",
        "model.add(Dense(1, activation='sigmoid'))\n",
        "model.compile(loss=keras.losses.categorical_crossentropy,\n",
        "              optimizer=keras.optimizers.Adadelta(),\n",
        "              metrics=['accuracy'])\n",
        "\n",
        "\n",
        "\n"
      ],
      "execution_count": 37,
      "outputs": []
    },
    {
      "cell_type": "code",
      "metadata": {
        "id": "OCXgX7qTSApD",
        "colab": {
          "base_uri": "https://localhost:8080/"
        },
        "outputId": "dbf33c6a-400b-480f-e5b8-92b2f5cddd29"
      },
      "source": [
        "model.summary()"
      ],
      "execution_count": null,
      "outputs": [
        {
          "output_type": "stream",
          "text": [
            "Model: \"sequential\"\n",
            "_________________________________________________________________\n",
            "Layer (type)                 Output Shape              Param #   \n",
            "=================================================================\n",
            "dense (Dense)                (None, 128)               100480    \n",
            "_________________________________________________________________\n",
            "dense_1 (Dense)              (None, 128)               16512     \n",
            "_________________________________________________________________\n",
            "dense_2 (Dense)              (None, 128)               16512     \n",
            "_________________________________________________________________\n",
            "dense_3 (Dense)              (None, 64)                8256      \n",
            "_________________________________________________________________\n",
            "dense_4 (Dense)              (None, 1)                 65        \n",
            "=================================================================\n",
            "Total params: 141,825\n",
            "Trainable params: 141,825\n",
            "Non-trainable params: 0\n",
            "_________________________________________________________________\n"
          ],
          "name": "stdout"
        }
      ]
    },
    {
      "cell_type": "code",
      "metadata": {
        "id": "aXKKR4ZFSGlj",
        "colab": {
          "base_uri": "https://localhost:8080/"
        },
        "outputId": "b44ba162-2b07-403d-b0a7-fbd880525ca5"
      },
      "source": [
        "#FITTING THE MODEL\n",
        "model.fit(TwoDim_dataset_x_trainfinal1, TwoDim_dataset1_y_trainfinal1)"
      ],
      "execution_count": 38,
      "outputs": [
        {
          "output_type": "stream",
          "text": [
            "227/227 [==============================] - 1s 3ms/step - loss: 1.6859e-07 - accuracy: 0.8952\n"
          ],
          "name": "stdout"
        },
        {
          "output_type": "execute_result",
          "data": {
            "text/plain": [
              "<tensorflow.python.keras.callbacks.History at 0x7f73123c0a58>"
            ]
          },
          "metadata": {
            "tags": []
          },
          "execution_count": 38
        }
      ]
    },
    {
      "cell_type": "code",
      "metadata": {
        "id": "VQxJNAbffPWa",
        "colab": {
          "base_uri": "https://localhost:8080/"
        },
        "outputId": "6f6a9c29-32c4-4268-94eb-c3180ca01626"
      },
      "source": [
        "model.evaluate(TwoDim_dataset2_x_testfinal11,TwoDim_dataset3_y_testfinal1)"
      ],
      "execution_count": 39,
      "outputs": [
        {
          "output_type": "stream",
          "text": [
            "52/52 [==============================] - 0s 1ms/step - loss: 3.3794e-07 - accuracy: 0.6685\n"
          ],
          "name": "stdout"
        },
        {
          "output_type": "execute_result",
          "data": {
            "text/plain": [
              "[3.37941941097597e-07, 0.6685015559196472]"
            ]
          },
          "metadata": {
            "tags": []
          },
          "execution_count": 39
        }
      ]
    },
    {
      "cell_type": "code",
      "metadata": {
        "id": "66SYG8iOgXrR",
        "colab": {
          "base_uri": "https://localhost:8080/"
        },
        "outputId": "b953e57c-593b-4fde-a44a-0090537e7fd5"
      },
      "source": [
        "batch_size = 128\n",
        "num_classes = 10\n",
        "epochs = 20\n",
        "model.fit(TwoDim_dataset_x_trainfinal1, TwoDim_dataset1_y_trainfinal1,\n",
        "          batch_size=batch_size,\n",
        "          epochs=epochs,\n",
        "          verbose=1,\n",
        "          validation_data=(TwoDim_dataset2_x_testfinal11, TwoDim_dataset3_y_testfinal1))\n",
        "score = model.evaluate(TwoDim_dataset2_x_testfinal11, TwoDim_dataset3_y_testfinal1, verbose=0)\n",
        "print('Test loss:', score[0])\n",
        "print('Test accuracy:', score[1])"
      ],
      "execution_count": 40,
      "outputs": [
        {
          "output_type": "stream",
          "text": [
            "Epoch 1/20\n",
            "57/57 [==============================] - 0s 6ms/step - loss: 1.6859e-07 - accuracy: 0.8952 - val_loss: 3.3794e-07 - val_accuracy: 0.6685\n",
            "Epoch 2/20\n",
            "57/57 [==============================] - 0s 6ms/step - loss: 1.6859e-07 - accuracy: 0.8952 - val_loss: 3.3794e-07 - val_accuracy: 0.6685\n",
            "Epoch 3/20\n",
            "57/57 [==============================] - 0s 6ms/step - loss: 1.6859e-07 - accuracy: 0.8952 - val_loss: 3.3794e-07 - val_accuracy: 0.6685\n",
            "Epoch 4/20\n",
            "57/57 [==============================] - 0s 5ms/step - loss: 1.6859e-07 - accuracy: 0.8952 - val_loss: 3.3794e-07 - val_accuracy: 0.6685\n",
            "Epoch 5/20\n",
            "57/57 [==============================] - 0s 5ms/step - loss: 1.6859e-07 - accuracy: 0.8952 - val_loss: 3.3794e-07 - val_accuracy: 0.6685\n",
            "Epoch 6/20\n",
            "57/57 [==============================] - 0s 6ms/step - loss: 1.6859e-07 - accuracy: 0.8952 - val_loss: 3.3794e-07 - val_accuracy: 0.6685\n",
            "Epoch 7/20\n",
            "57/57 [==============================] - 0s 5ms/step - loss: 1.6859e-07 - accuracy: 0.8952 - val_loss: 3.3794e-07 - val_accuracy: 0.6685\n",
            "Epoch 8/20\n",
            "57/57 [==============================] - 0s 5ms/step - loss: 1.6859e-07 - accuracy: 0.8952 - val_loss: 3.3794e-07 - val_accuracy: 0.6685\n",
            "Epoch 9/20\n",
            "57/57 [==============================] - 0s 5ms/step - loss: 1.6859e-07 - accuracy: 0.8952 - val_loss: 3.3794e-07 - val_accuracy: 0.6685\n",
            "Epoch 10/20\n",
            "57/57 [==============================] - 0s 5ms/step - loss: 1.6859e-07 - accuracy: 0.8952 - val_loss: 3.3794e-07 - val_accuracy: 0.6685\n",
            "Epoch 11/20\n",
            "57/57 [==============================] - 0s 5ms/step - loss: 1.6859e-07 - accuracy: 0.8952 - val_loss: 3.3794e-07 - val_accuracy: 0.6685\n",
            "Epoch 12/20\n",
            "57/57 [==============================] - 0s 5ms/step - loss: 1.6859e-07 - accuracy: 0.8952 - val_loss: 3.3794e-07 - val_accuracy: 0.6685\n",
            "Epoch 13/20\n",
            "57/57 [==============================] - 0s 5ms/step - loss: 1.6859e-07 - accuracy: 0.8952 - val_loss: 3.3794e-07 - val_accuracy: 0.6685\n",
            "Epoch 14/20\n",
            "57/57 [==============================] - 0s 5ms/step - loss: 1.6859e-07 - accuracy: 0.8952 - val_loss: 3.3794e-07 - val_accuracy: 0.6685\n",
            "Epoch 15/20\n",
            "57/57 [==============================] - 0s 5ms/step - loss: 1.6859e-07 - accuracy: 0.8952 - val_loss: 3.3794e-07 - val_accuracy: 0.6685\n",
            "Epoch 16/20\n",
            "57/57 [==============================] - 0s 5ms/step - loss: 1.6859e-07 - accuracy: 0.8952 - val_loss: 3.3794e-07 - val_accuracy: 0.6685\n",
            "Epoch 17/20\n",
            "57/57 [==============================] - 0s 5ms/step - loss: 1.6859e-07 - accuracy: 0.8952 - val_loss: 3.3794e-07 - val_accuracy: 0.6685\n",
            "Epoch 18/20\n",
            "57/57 [==============================] - 0s 6ms/step - loss: 1.6859e-07 - accuracy: 0.8952 - val_loss: 3.3794e-07 - val_accuracy: 0.6685\n",
            "Epoch 19/20\n",
            "57/57 [==============================] - 0s 6ms/step - loss: 1.6859e-07 - accuracy: 0.8952 - val_loss: 3.3794e-07 - val_accuracy: 0.6685\n",
            "Epoch 20/20\n",
            "57/57 [==============================] - 0s 5ms/step - loss: 1.6859e-07 - accuracy: 0.8952 - val_loss: 3.3794e-07 - val_accuracy: 0.6685\n",
            "Test loss: 3.37941941097597e-07\n",
            "Test accuracy: 0.6685015559196472\n"
          ],
          "name": "stdout"
        }
      ]
    },
    {
      "cell_type": "code",
      "metadata": {
        "id": "cvTNFnE5gFLe"
      },
      "source": [
        ""
      ],
      "execution_count": null,
      "outputs": []
    }
  ]
}